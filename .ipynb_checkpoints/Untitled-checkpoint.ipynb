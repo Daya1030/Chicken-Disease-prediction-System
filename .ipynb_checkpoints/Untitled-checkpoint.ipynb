{
 "cells": [
  {
   "cell_type": "code",
   "execution_count": 1,
   "id": "16de9988",
   "metadata": {},
   "outputs": [],
   "source": [
    "import pandas as pd\n",
    "import numpy as np\n",
    "from sklearn.model_selection import train_test_split\n",
    "from sklearn.ensemble import RandomForestClassifier\n",
    "from sklearn.metrics import accuracy_score\n",
    "import os\n",
    "\n"
   ]
  },
  {
   "cell_type": "code",
   "execution_count": 2,
   "id": "0608ab65",
   "metadata": {},
   "outputs": [
    {
     "name": "stdout",
     "output_type": "stream",
     "text": [
      "                   images              labels\n",
      "0    Train\\salmo.1558.jpg          Salmonella\n",
      "1    Train\\cocci.1866.jpg         Coccidiosis\n",
      "2     Train\\cocci.171.jpg         Coccidiosis\n",
      "3    Train\\salmo.1484.jpg          Salmonella\n",
      "4       Train\\ncd.100.jpg  New Castle Disease\n",
      "5     Train\\salmo.659.jpg          Salmonella\n",
      "6    Train\\salmo.1386.jpg          Salmonella\n",
      "7  Train\\healthy.1748.jpg             Healthy\n",
      "8  Train\\healthy.1156.jpg             Healthy\n",
      "9  Train\\healthy.1215.jpg             Healthy\n"
     ]
    }
   ],
   "source": [
    "sdir=r'Train'\n",
    "csvpath=r'train_data.csv'\n",
    "df=pd.read_csv(csvpath)\n",
    "df.columns=['images', 'labels' ]\n",
    "df['images']=df['images'].apply(lambda x: os.path.join(sdir,x))\n",
    "print(df.head(10))\n"
   ]
  },
  {
   "cell_type": "code",
   "execution_count": 3,
   "id": "ec2c5af7",
   "metadata": {},
   "outputs": [
    {
     "name": "stdout",
     "output_type": "stream",
     "text": [
      "train_df lenght:  7260   test_df length:  403   valid_df length:  404\n",
      "            CLASS               IMAGE COUNT \n",
      "         Coccidiosis               2476     \n",
      "          Salmonella               2625     \n",
      "           Healthy                 2404     \n",
      "      New Castle Disease            562     \n"
     ]
    }
   ],
   "source": [
    "trsplit=.9\n",
    "vsplit=.05\n",
    "dsplit =vsplit/(1-trsplit)\n",
    "strat=df['labels']\n",
    "train_df, dummy_df=train_test_split(df, train_size=.9, shuffle=True, random_state=123, stratify=strat)\n",
    "strat=dummy_df['labels']\n",
    "test_df, valid_df=train_test_split(dummy_df, train_size=dsplit, shuffle=True, random_state=123, stratify=strat)\n",
    "print('train_df lenght: ', len(train_df), '  test_df length: ', len(test_df), '  valid_df length: ', len(valid_df))\n",
    "classes=list(train_df['labels'].unique())\n",
    "class_count = len(classes)\n",
    "groups=df.groupby('labels')\n",
    "print('{0:^30s} {1:^13s}'.format('CLASS', 'IMAGE COUNT'))\n",
    "for label in train_df['labels'].unique():\n",
    "      group=groups.get_group(label)      \n",
    "      print('{0:^30s} {1:^13s}'.format(label, str(len(group))))"
   ]
  },
  {
   "cell_type": "code",
   "execution_count": 4,
   "id": "629dc461",
   "metadata": {},
   "outputs": [],
   "source": [
    "def trim (df, max_size, min_size, column):\n",
    "    df=df.copy()\n",
    "    original_class_count= len(list(df[column].unique()))\n",
    "    print ('Original Number of classes in dataframe: ', original_class_count)\n",
    "    sample_list=[] \n",
    "    groups=df.groupby(column)\n",
    "    for label in df[column].unique():        \n",
    "        group=groups.get_group(label)\n",
    "        sample_count=len(group)         \n",
    "        if sample_count> max_size :\n",
    "            strat=group[column]\n",
    "            samples,_=train_test_split(group, train_size=max_size, shuffle=True, random_state=123, stratify=strat)            \n",
    "            sample_list.append(samples)\n",
    "        elif sample_count>= min_size:\n",
    "            sample_list.append(group)\n",
    "    df=pd.concat(sample_list, axis=0).reset_index(drop=True)\n",
    "    final_class_count= len(list(df[column].unique())) \n",
    "    if final_class_count != original_class_count:\n",
    "        print ('*** WARNING***  dataframe has a reduced number of classes' )\n",
    "    balance=list(df[column].value_counts())\n",
    "    print (balance)\n",
    "    return df"
   ]
  },
  {
   "cell_type": "code",
   "execution_count": 5,
   "id": "d7f82017",
   "metadata": {},
   "outputs": [
    {
     "name": "stdout",
     "output_type": "stream",
     "text": [
      "Original Number of classes in dataframe:  4\n",
      "[500, 500, 500, 500]\n"
     ]
    }
   ],
   "source": [
    "max_samples=500\n",
    "min_samples=0\n",
    "column = 'labels'\n",
    "train_df=trim(train_df, max_samples, min_samples, column)\n",
    "img_size=(224,224)\n",
    "working_dir=r'./'"
   ]
  },
  {
   "cell_type": "code",
   "execution_count": null,
   "id": "ca67ca14",
   "metadata": {},
   "outputs": [],
   "source": []
  },
  {
   "cell_type": "code",
   "execution_count": 8,
   "id": "bfcd73cd",
   "metadata": {},
   "outputs": [
    {
     "ename": "NameError",
     "evalue": "name 'ImageDataGenerator' is not defined",
     "output_type": "error",
     "traceback": [
      "\u001b[1;31m---------------------------------------------------------------------------\u001b[0m",
      "\u001b[1;31mNameError\u001b[0m                                 Traceback (most recent call last)",
      "Cell \u001b[1;32mIn [8], line 6\u001b[0m\n\u001b[0;32m      3\u001b[0m batch_size\u001b[38;5;241m=\u001b[39m\u001b[38;5;241m20\u001b[39m \u001b[38;5;66;03m# We will use and EfficientetB5 model, with image size of (224, 224) this size should not cause resource error\u001b[39;00m\n\u001b[0;32m      4\u001b[0m trgen\u001b[38;5;241m=\u001b[39mtf\u001b[38;5;241m.\u001b[39mkeras\u001b[38;5;241m.\u001b[39mpreprocessing\u001b[38;5;241m.\u001b[39mimage\u001b[38;5;241m.\u001b[39mImageDataGenerator(horizontal_flip\u001b[38;5;241m=\u001b[39m\u001b[38;5;28;01mTrue\u001b[39;00m,rotation_range\u001b[38;5;241m=\u001b[39m\u001b[38;5;241m20\u001b[39m, width_shift_range\u001b[38;5;241m=\u001b[39m\u001b[38;5;241m.2\u001b[39m,\n\u001b[0;32m      5\u001b[0m                                   height_shift_range\u001b[38;5;241m=\u001b[39m\u001b[38;5;241m.2\u001b[39m, zoom_range\u001b[38;5;241m=\u001b[39m\u001b[38;5;241m.2\u001b[39m )\n\u001b[1;32m----> 6\u001b[0m t_and_v_gen\u001b[38;5;241m=\u001b[39m\u001b[43mImageDataGenerator\u001b[49m()\n\u001b[0;32m      7\u001b[0m train_gen\u001b[38;5;241m=\u001b[39mtrgen\u001b[38;5;241m.\u001b[39mflow_from_dataframe(train_df, x_col\u001b[38;5;241m=\u001b[39m\u001b[38;5;124m'\u001b[39m\u001b[38;5;124mfilepaths\u001b[39m\u001b[38;5;124m'\u001b[39m, y_col\u001b[38;5;241m=\u001b[39m\u001b[38;5;124m'\u001b[39m\u001b[38;5;124mlabels\u001b[39m\u001b[38;5;124m'\u001b[39m, target_size\u001b[38;5;241m=\u001b[39mimg_size,\n\u001b[0;32m      8\u001b[0m                                    class_mode\u001b[38;5;241m=\u001b[39m\u001b[38;5;124m'\u001b[39m\u001b[38;5;124mcategorical\u001b[39m\u001b[38;5;124m'\u001b[39m, color_mode\u001b[38;5;241m=\u001b[39m\u001b[38;5;124m'\u001b[39m\u001b[38;5;124mrgb\u001b[39m\u001b[38;5;124m'\u001b[39m, shuffle\u001b[38;5;241m=\u001b[39m\u001b[38;5;28;01mTrue\u001b[39;00m, batch_size\u001b[38;5;241m=\u001b[39mbatch_size)\n\u001b[0;32m      9\u001b[0m valid_gen\u001b[38;5;241m=\u001b[39mt_and_v_gen\u001b[38;5;241m.\u001b[39mflow_from_dataframe(valid_df, x_col\u001b[38;5;241m=\u001b[39m\u001b[38;5;124m'\u001b[39m\u001b[38;5;124mfilepaths\u001b[39m\u001b[38;5;124m'\u001b[39m, y_col\u001b[38;5;241m=\u001b[39m\u001b[38;5;124m'\u001b[39m\u001b[38;5;124mlabels\u001b[39m\u001b[38;5;124m'\u001b[39m, target_size\u001b[38;5;241m=\u001b[39mimg_size,\n\u001b[0;32m     10\u001b[0m                                    class_mode\u001b[38;5;241m=\u001b[39m\u001b[38;5;124m'\u001b[39m\u001b[38;5;124mcategorical\u001b[39m\u001b[38;5;124m'\u001b[39m, color_mode\u001b[38;5;241m=\u001b[39m\u001b[38;5;124m'\u001b[39m\u001b[38;5;124mrgb\u001b[39m\u001b[38;5;124m'\u001b[39m, shuffle\u001b[38;5;241m=\u001b[39m\u001b[38;5;28;01mFalse\u001b[39;00m, batch_size\u001b[38;5;241m=\u001b[39mbatch_size)\n",
      "\u001b[1;31mNameError\u001b[0m: name 'ImageDataGenerator' is not defined"
     ]
    }
   ],
   "source": [
    "import tensorflow as tf\n",
    "\n",
    "\n",
    "batch_size=20 # We will use and EfficientetB5 model, with image size of (224, 224) this size should not cause resource error\n",
    "trgen=tf.keras.preprocessing.image.ImageDataGenerator(horizontal_flip=True,rotation_range=20, width_shift_range=.2,\n",
    "                                  height_shift_range=.2, zoom_range=.2 )\n",
    "t_and_v_gen=ImageDataGenerator()\n",
    "train_gen=trgen.flow_from_dataframe(train_df, x_col='filepaths', y_col='labels', target_size=img_size,\n",
    "                                   class_mode='categorical', color_mode='rgb', shuffle=True, batch_size=batch_size)\n",
    "valid_gen=t_and_v_gen.flow_from_dataframe(valid_df, x_col='filepaths', y_col='labels', target_size=img_size,\n",
    "                                   class_mode='categorical', color_mode='rgb', shuffle=False, batch_size=batch_size)\n",
    "# for the test_gen we want to calculate the batch size and test steps such that batch_size X test_steps= number of samples in test set\n",
    "# this insures that we go through all the sample in the test set exactly once.\n",
    "length=len(test_df)\n",
    "test_batch_size=sorted([int(length/n) for n in range(1,length+1) if length % n ==0 and length/n<=80],reverse=True)[0]  \n",
    "test_steps=int(length/test_batch_size)\n",
    "test_gen=t_and_v_gen.flow_from_dataframe(test_df, x_col='filepaths', y_col='labels', target_size=img_size,\n",
    "                                   class_mode='categorical', color_mode='rgb', shuffle=False, batch_size=test_batch_size)\n",
    "# from the generator we can get information we will need later\n",
    "classes=list(train_gen.class_indices.keys())\n",
    "class_indices=list(train_gen.class_indices.values())\n",
    "class_count=len(classes)\n",
    "labels=test_gen.labels\n",
    "print ( 'test batch size: ' ,test_batch_size, '  test steps: ', test_steps, ' number of classes : ', class_count)\n",
    "print ('{0:^25s}{1:^12s}'.format('class name', 'class index'))\n",
    "for klass, index in zip(classes, class_indices):\n",
    "    print(f'{klass:^25s}{str(index):^12s}')"
   ]
  },
  {
   "cell_type": "code",
   "execution_count": null,
   "id": "62f3d3c6",
   "metadata": {},
   "outputs": [],
   "source": [
    "# Split the dataset into features (X) and target (y)\n",
    "y = df.drop(\"images\", axis=1)\n",
    "X = df[\"images\"]\n",
    "\n",
    "# Split the data into training and testing sets\n",
    "X_train, X_test, y_train, y_test = train_test_split(X, y, test_size=0.2, random_state=40\n",
    "                                                   )\n",
    "\n"
   ]
  },
  {
   "cell_type": "code",
   "execution_count": null,
   "id": "10b40867",
   "metadata": {},
   "outputs": [],
   "source": [
    "# Train the model\n",
    "model = RandomForestClassifier(n_estimators=100)\n",
    "model.fit(X_train, y_train)\n",
    "\n",
    "# Make predictions on the test data\n",
    "y_pred = model.predict(X_test)\n",
    "\n",
    "# Evaluate the model\n",
    "acc = accuracy_score(y_test, y_pred)\n",
    "print(\"Accuracy:\", acc)"
   ]
  },
  {
   "cell_type": "code",
   "execution_count": null,
   "id": "d8493569",
   "metadata": {},
   "outputs": [],
   "source": []
  }
 ],
 "metadata": {
  "kernelspec": {
   "display_name": "Python 3 (ipykernel)",
   "language": "python",
   "name": "python3"
  },
  "language_info": {
   "codemirror_mode": {
    "name": "ipython",
    "version": 3
   },
   "file_extension": ".py",
   "mimetype": "text/x-python",
   "name": "python",
   "nbconvert_exporter": "python",
   "pygments_lexer": "ipython3",
   "version": "3.10.8"
  }
 },
 "nbformat": 4,
 "nbformat_minor": 5
}
