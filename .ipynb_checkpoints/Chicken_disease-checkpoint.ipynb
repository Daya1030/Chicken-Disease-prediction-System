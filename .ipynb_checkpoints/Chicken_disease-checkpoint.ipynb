{
 "cells": [
  {
   "cell_type": "code",
   "execution_count": 1,
   "metadata": {},
   "outputs": [],
   "source": [
    "import numpy as np\n",
    "import tensorflow as tf\n",
    "import keras\n",
    "from keras.models import Sequential\n",
    "from keras.layers import Dense, Dropout, Flatten\n",
    "from keras.layers import Conv2D, MaxPooling2D\n",
    "from keras.preprocessing.image import ImageDataGenerator\n",
    "from keras.layers import Dense, Flatten, Conv2D, MaxPooling2D, Dense"
   ]
  },
  {
   "cell_type": "code",
   "execution_count": 2,
   "metadata": {},
   "outputs": [],
   "source": [
    "# Load the data\n",
    "data_gen = ImageDataGenerator(rescale=1./255) # Normalize the data"
   ]
  },
  {
   "cell_type": "code",
   "execution_count": 3,
   "metadata": {},
   "outputs": [
    {
     "name": "stdout",
     "output_type": "stream",
     "text": [
      "Found 6779 images belonging to 4 classes.\n"
     ]
    },
    {
     "data": {
      "text/plain": [
       "<keras.preprocessing.image.DirectoryIterator at 0x1cc0ae019d0>"
      ]
     },
     "execution_count": 3,
     "metadata": {},
     "output_type": "execute_result"
    }
   ],
   "source": [
    "train_data = data_gen.flow_from_directory(\n",
    "        \"Train\",\n",
    "        target_size=(150, 150), # Resize the images to 150x150\n",
    "        batch_size=32,\n",
    "        class_mode=\"categorical\")\n",
    "\n",
    "train_data"
   ]
  },
  {
   "cell_type": "code",
   "execution_count": 4,
   "metadata": {},
   "outputs": [
    {
     "name": "stdout",
     "output_type": "stream",
     "text": [
      "Found 3379 images belonging to 4 classes.\n"
     ]
    }
   ],
   "source": [
    "val_data = data_gen.flow_from_directory(\n",
    "        \"Val\",\n",
    "        target_size=(150, 150),\n",
    "        batch_size=32,\n",
    "        class_mode=\"categorical\")"
   ]
  },
  {
   "cell_type": "code",
   "execution_count": 5,
   "metadata": {},
   "outputs": [
    {
     "data": {
      "text/plain": [
       "4"
      ]
     },
     "execution_count": 5,
     "metadata": {},
     "output_type": "execute_result"
    }
   ],
   "source": [
    "num_classes = len(train_data.class_indices)\n",
    "num_classes\n"
   ]
  },
  {
   "cell_type": "code",
   "execution_count": 6,
   "metadata": {},
   "outputs": [],
   "source": [
    "# Build the model\n",
    "model = Sequential()\n",
    "model.add(Conv2D(32, kernel_size=(3, 3), activation=\"relu\", input_shape=(150, 150, 3)))\n",
    "model.add(MaxPooling2D(pool_size=(2, 2)))\n",
    "model.add(Conv2D(64, kernel_size=(3, 3), activation=\"relu\"))\n",
    "model.add(MaxPooling2D(pool_size=(2, 2)))\n",
    "model.add(Conv2D(128, kernel_size=(3, 3), activation=\"relu\"))\n",
    "model.add(MaxPooling2D(pool_size=(2, 2)))\n",
    "model.add(Conv2D(128, kernel_size=(3, 3), activation=\"relu\"))\n",
    "model.add(MaxPooling2D(pool_size=(2, 2)))\n",
    "model.add(Flatten())\n",
    "model.add(Dense(512, activation=\"relu\"))\n",
    "model.add(Dropout(0.5))\n",
    "model.add(Dense(num_classes, activation=\"softmax\"))\n"
   ]
  },
  {
   "cell_type": "code",
   "execution_count": 7,
   "metadata": {},
   "outputs": [],
   "source": [
    "# Compile the model\n",
    "model.compile(loss=\"categorical_crossentropy\", optimizer=\"adam\", metrics=[\"accuracy\"])\n"
   ]
  },
  {
   "cell_type": "code",
   "execution_count": 8,
   "metadata": {},
   "outputs": [
    {
     "name": "stdout",
     "output_type": "stream",
     "text": [
      "Epoch 1/30\n",
      "100/100 [==============================] - 104s 1s/step - loss: 0.7575 - accuracy: 0.7138 - val_loss: 0.6115 - val_accuracy: 0.7887\n",
      "Epoch 2/30\n",
      "100/100 [==============================] - 90s 901ms/step - loss: 0.5230 - accuracy: 0.8281 - val_loss: 0.6114 - val_accuracy: 0.7862\n",
      "Epoch 3/30\n",
      "100/100 [==============================] - 91s 907ms/step - loss: 0.4542 - accuracy: 0.8520 - val_loss: 0.5424 - val_accuracy: 0.8225\n",
      "Epoch 4/30\n",
      "100/100 [==============================] - 98s 979ms/step - loss: 0.3972 - accuracy: 0.8648 - val_loss: 0.3920 - val_accuracy: 0.8581\n",
      "Epoch 5/30\n",
      "100/100 [==============================] - 97s 974ms/step - loss: 0.3605 - accuracy: 0.8841 - val_loss: 0.4781 - val_accuracy: 0.8344\n",
      "Epoch 6/30\n",
      "100/100 [==============================] - 97s 973ms/step - loss: 0.3220 - accuracy: 0.8905 - val_loss: 0.3653 - val_accuracy: 0.8587\n",
      "Epoch 7/30\n",
      "100/100 [==============================] - 98s 981ms/step - loss: 0.2901 - accuracy: 0.9002 - val_loss: 0.3782 - val_accuracy: 0.8719\n",
      "Epoch 8/30\n",
      "100/100 [==============================] - 95s 948ms/step - loss: 0.2898 - accuracy: 0.9087 - val_loss: 0.2777 - val_accuracy: 0.9000\n",
      "Epoch 9/30\n",
      "100/100 [==============================] - 96s 957ms/step - loss: 0.2389 - accuracy: 0.9191 - val_loss: 0.2473 - val_accuracy: 0.9112\n",
      "Epoch 10/30\n",
      "100/100 [==============================] - 96s 959ms/step - loss: 0.2322 - accuracy: 0.9205 - val_loss: 0.2606 - val_accuracy: 0.9038\n",
      "Epoch 11/30\n",
      "100/100 [==============================] - 96s 962ms/step - loss: 0.2561 - accuracy: 0.9153 - val_loss: 0.2366 - val_accuracy: 0.9044\n",
      "Epoch 12/30\n",
      "100/100 [==============================] - 94s 945ms/step - loss: 0.2231 - accuracy: 0.9206 - val_loss: 0.2129 - val_accuracy: 0.9237\n",
      "Epoch 13/30\n",
      "100/100 [==============================] - 95s 953ms/step - loss: 0.1816 - accuracy: 0.9349 - val_loss: 0.1787 - val_accuracy: 0.9356\n",
      "Epoch 14/30\n",
      "100/100 [==============================] - 96s 963ms/step - loss: 0.1896 - accuracy: 0.9336 - val_loss: 0.1527 - val_accuracy: 0.9519\n",
      "Epoch 15/30\n",
      "100/100 [==============================] - 96s 959ms/step - loss: 0.1902 - accuracy: 0.9390 - val_loss: 0.2174 - val_accuracy: 0.9100\n",
      "Epoch 16/30\n",
      "100/100 [==============================] - 96s 956ms/step - loss: 0.1662 - accuracy: 0.9413 - val_loss: 0.1382 - val_accuracy: 0.9488\n",
      "Epoch 17/30\n",
      "100/100 [==============================] - 96s 963ms/step - loss: 0.1568 - accuracy: 0.9447 - val_loss: 0.1717 - val_accuracy: 0.9287\n",
      "Epoch 18/30\n",
      "100/100 [==============================] - 96s 961ms/step - loss: 0.1469 - accuracy: 0.9468 - val_loss: 0.1195 - val_accuracy: 0.9556\n",
      "Epoch 19/30\n",
      "100/100 [==============================] - 97s 966ms/step - loss: 0.1271 - accuracy: 0.9543 - val_loss: 0.1091 - val_accuracy: 0.9569\n",
      "Epoch 20/30\n",
      "100/100 [==============================] - 96s 962ms/step - loss: 0.1303 - accuracy: 0.9566 - val_loss: 0.0870 - val_accuracy: 0.9731\n",
      "Epoch 21/30\n",
      "100/100 [==============================] - 96s 963ms/step - loss: 0.1198 - accuracy: 0.9577 - val_loss: 0.1155 - val_accuracy: 0.9563\n",
      "Epoch 22/30\n",
      "100/100 [==============================] - 96s 964ms/step - loss: 0.1258 - accuracy: 0.9597 - val_loss: 0.1168 - val_accuracy: 0.9513\n",
      "Epoch 23/30\n",
      "100/100 [==============================] - 97s 972ms/step - loss: 0.1480 - accuracy: 0.9465 - val_loss: 0.1203 - val_accuracy: 0.9556\n",
      "Epoch 24/30\n",
      "100/100 [==============================] - 94s 943ms/step - loss: 0.1044 - accuracy: 0.9653 - val_loss: 0.1675 - val_accuracy: 0.9463\n",
      "Epoch 25/30\n",
      "100/100 [==============================] - 95s 948ms/step - loss: 0.1061 - accuracy: 0.9653 - val_loss: 0.2423 - val_accuracy: 0.9131\n",
      "Epoch 26/30\n",
      "100/100 [==============================] - 97s 970ms/step - loss: 0.1493 - accuracy: 0.9450 - val_loss: 0.2475 - val_accuracy: 0.9013\n",
      "Epoch 27/30\n",
      "100/100 [==============================] - 96s 960ms/step - loss: 0.1143 - accuracy: 0.9600 - val_loss: 0.1214 - val_accuracy: 0.9588\n",
      "Epoch 28/30\n",
      "100/100 [==============================] - 96s 964ms/step - loss: 0.0946 - accuracy: 0.9697 - val_loss: 0.1972 - val_accuracy: 0.9344\n",
      "Epoch 29/30\n",
      "100/100 [==============================] - 97s 971ms/step - loss: 0.1112 - accuracy: 0.9672 - val_loss: 0.0630 - val_accuracy: 0.9806\n",
      "Epoch 30/30\n",
      "100/100 [==============================] - 97s 968ms/step - loss: 0.0688 - accuracy: 0.9734 - val_loss: 0.1090 - val_accuracy: 0.9625\n"
     ]
    },
    {
     "data": {
      "text/plain": [
       "<keras.callbacks.History at 0x1cc20997190>"
      ]
     },
     "execution_count": 8,
     "metadata": {},
     "output_type": "execute_result"
    }
   ],
   "source": [
    "# Train the model\n",
    "model.fit(\n",
    "        train_data,\n",
    "        steps_per_epoch=100, # Number of batches per epoch\n",
    "        epochs=30,\n",
    "        validation_data=val_data,\n",
    "        validation_steps=50)"
   ]
  },
  {
   "cell_type": "code",
   "execution_count": 13,
   "metadata": {
    "scrolled": true
   },
   "outputs": [
    {
     "name": "stdout",
     "output_type": "stream",
     "text": [
      "Model: \"sequential\"\n",
      "_________________________________________________________________\n",
      " Layer (type)                Output Shape              Param #   \n",
      "=================================================================\n",
      " conv2d (Conv2D)             (None, 148, 148, 32)      896       \n",
      "                                                                 \n",
      " max_pooling2d (MaxPooling2D  (None, 74, 74, 32)       0         \n",
      " )                                                               \n",
      "                                                                 \n",
      " conv2d_1 (Conv2D)           (None, 72, 72, 64)        18496     \n",
      "                                                                 \n",
      " max_pooling2d_1 (MaxPooling  (None, 36, 36, 64)       0         \n",
      " 2D)                                                             \n",
      "                                                                 \n",
      " conv2d_2 (Conv2D)           (None, 34, 34, 128)       73856     \n",
      "                                                                 \n",
      " max_pooling2d_2 (MaxPooling  (None, 17, 17, 128)      0         \n",
      " 2D)                                                             \n",
      "                                                                 \n",
      " conv2d_3 (Conv2D)           (None, 15, 15, 128)       147584    \n",
      "                                                                 \n",
      " max_pooling2d_3 (MaxPooling  (None, 7, 7, 128)        0         \n",
      " 2D)                                                             \n",
      "                                                                 \n",
      " flatten (Flatten)           (None, 6272)              0         \n",
      "                                                                 \n",
      " dense (Dense)               (None, 512)               3211776   \n",
      "                                                                 \n",
      " dropout (Dropout)           (None, 512)               0         \n",
      "                                                                 \n",
      " dense_1 (Dense)             (None, 4)                 2052      \n",
      "                                                                 \n",
      "=================================================================\n",
      "Total params: 3,454,660\n",
      "Trainable params: 3,454,660\n",
      "Non-trainable params: 0\n",
      "_________________________________________________________________\n"
     ]
    }
   ],
   "source": [
    "model.summary()"
   ]
  },
  {
   "cell_type": "code",
   "execution_count": 9,
   "metadata": {},
   "outputs": [
    {
     "name": "stdout",
     "output_type": "stream",
     "text": [
      "50/50 [==============================] - 9s 170ms/step - loss: 0.0907 - accuracy: 0.9712\n",
      "Test accuracy:  0.9712499976158142\n"
     ]
    }
   ],
   "source": [
    "# Evaluate the model on the test data\n",
    "test_loss, test_accuracy = model.evaluate(val_data, steps=50)\n",
    "print(\"Test accuracy: \", test_accuracy)"
   ]
  },
  {
   "cell_type": "code",
   "execution_count": 10,
   "metadata": {},
   "outputs": [],
   "source": [
    "# Save the model\n",
    "model.save(\"model.h5\")"
   ]
  },
  {
   "cell_type": "code",
   "execution_count": null,
   "metadata": {},
   "outputs": [],
   "source": []
  }
 ],
 "metadata": {
  "kernelspec": {
   "display_name": "Python 3 (ipykernel)",
   "language": "python",
   "name": "python3"
  },
  "language_info": {
   "codemirror_mode": {
    "name": "ipython",
    "version": 3
   },
   "file_extension": ".py",
   "mimetype": "text/x-python",
   "name": "python",
   "nbconvert_exporter": "python",
   "pygments_lexer": "ipython3",
   "version": "3.11.1"
  },
  "vscode": {
   "interpreter": {
    "hash": "26de051ba29f2982a8de78e945f0abaf191376122a1563185a90213a26c5da77"
   }
  }
 },
 "nbformat": 4,
 "nbformat_minor": 2
}
