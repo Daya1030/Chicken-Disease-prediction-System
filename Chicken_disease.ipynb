{
 "cells": [
  {
   "cell_type": "code",
   "execution_count": 1,
   "metadata": {},
   "outputs": [],
   "source": [
    "import numpy as np\n",
    "import tensorflow as tf\n",
    "import keras\n",
    "from keras.models import Sequential\n",
    "from keras.layers import Dense, Dropout, Flatten\n",
    "from keras.layers import Conv2D, MaxPooling2D\n",
    "from keras.preprocessing.image import ImageDataGenerator\n",
    "from keras.layers import Dense, Flatten, Conv2D, MaxPooling2D, Dense"
   ]
  },
  {
   "cell_type": "code",
   "execution_count": 2,
   "metadata": {},
   "outputs": [],
   "source": [
    "# Load the data\n",
    "data_gen = ImageDataGenerator(rescale=1./255) # Normalize the data"
   ]
  },
  {
   "cell_type": "code",
   "execution_count": 3,
   "metadata": {},
   "outputs": [
    {
     "name": "stdout",
     "output_type": "stream",
     "text": [
      "Found 6779 images belonging to 4 classes.\n"
     ]
    },
    {
     "data": {
      "text/plain": [
       "<keras.preprocessing.image.DirectoryIterator at 0x27fde3055d0>"
      ]
     },
     "execution_count": 3,
     "metadata": {},
     "output_type": "execute_result"
    }
   ],
   "source": [
    "train_data = data_gen.flow_from_directory(\n",
    "        \"Train\",\n",
    "        target_size=(150, 150), # Resize the images to 150x150\n",
    "        batch_size=32,\n",
    "        class_mode=\"categorical\")\n",
    "\n",
    "train_data"
   ]
  },
  {
   "cell_type": "code",
   "execution_count": 4,
   "metadata": {},
   "outputs": [
    {
     "name": "stdout",
     "output_type": "stream",
     "text": [
      "Found 3379 images belonging to 4 classes.\n"
     ]
    }
   ],
   "source": [
    "val_data = data_gen.flow_from_directory(\n",
    "        \"Val\",\n",
    "        target_size=(150, 150),\n",
    "        batch_size=32,\n",
    "        class_mode=\"categorical\")"
   ]
  },
  {
   "cell_type": "code",
   "execution_count": 5,
   "metadata": {},
   "outputs": [
    {
     "data": {
      "text/plain": [
       "4"
      ]
     },
     "execution_count": 5,
     "metadata": {},
     "output_type": "execute_result"
    }
   ],
   "source": [
    "num_classes = len(train_data.class_indices)\n",
    "num_classes\n"
   ]
  },
  {
   "cell_type": "code",
   "execution_count": 6,
   "metadata": {},
   "outputs": [],
   "source": [
    "# Build the model\n",
    "model = Sequential()\n",
    "model.add(Conv2D(32, kernel_size=(3, 3), activation=\"relu\", input_shape=(150, 150, 3)))\n",
    "model.add(MaxPooling2D(pool_size=(2, 2)))\n",
    "model.add(Conv2D(64, kernel_size=(3, 3), activation=\"relu\"))\n",
    "model.add(MaxPooling2D(pool_size=(2, 2)))\n",
    "model.add(Conv2D(128, kernel_size=(3, 3), activation=\"relu\"))\n",
    "model.add(MaxPooling2D(pool_size=(2, 2)))\n",
    "model.add(Conv2D(128, kernel_size=(3, 3), activation=\"relu\"))\n",
    "model.add(MaxPooling2D(pool_size=(2, 2)))\n",
    "model.add(Flatten())\n",
    "model.add(Dense(512, activation=\"relu\"))\n",
    "model.add(Dropout(0.5))\n",
    "model.add(Dense(num_classes, activation=\"softmax\"))\n"
   ]
  },
  {
   "cell_type": "code",
   "execution_count": 7,
   "metadata": {},
   "outputs": [],
   "source": [
    "# Compile the model\n",
    "model.compile(loss=\"categorical_crossentropy\", optimizer=\"adam\", metrics=[\"accuracy\"])\n"
   ]
  },
  {
   "cell_type": "code",
   "execution_count": 8,
   "metadata": {},
   "outputs": [
    {
     "name": "stdout",
     "output_type": "stream",
     "text": [
      "Epoch 1/30\n",
      "200/200 [==============================] - 154s 762ms/step - loss: 0.6721 - accuracy: 0.7489 - val_loss: 0.5842 - val_accuracy: 0.7894\n",
      "Epoch 2/30\n",
      "200/200 [==============================] - 162s 811ms/step - loss: 0.4725 - accuracy: 0.8405 - val_loss: 0.4919 - val_accuracy: 0.8206\n",
      "Epoch 3/30\n",
      "200/200 [==============================] - 164s 820ms/step - loss: 0.3743 - accuracy: 0.8710 - val_loss: 0.4162 - val_accuracy: 0.8281\n",
      "Epoch 4/30\n",
      "200/200 [==============================] - 156s 778ms/step - loss: 0.2938 - accuracy: 0.9002 - val_loss: 0.3446 - val_accuracy: 0.8669\n",
      "Epoch 5/30\n",
      "200/200 [==============================] - 155s 774ms/step - loss: 0.2443 - accuracy: 0.9127 - val_loss: 0.2071 - val_accuracy: 0.9256\n",
      "Epoch 6/30\n",
      "200/200 [==============================] - 155s 775ms/step - loss: 0.2111 - accuracy: 0.9257 - val_loss: 0.2591 - val_accuracy: 0.9025\n",
      "Epoch 7/30\n",
      "200/200 [==============================] - 155s 775ms/step - loss: 0.1942 - accuracy: 0.9326 - val_loss: 0.2233 - val_accuracy: 0.9081\n",
      "Epoch 8/30\n",
      "200/200 [==============================] - 154s 770ms/step - loss: 0.1779 - accuracy: 0.9362 - val_loss: 0.1923 - val_accuracy: 0.9250\n",
      "Epoch 9/30\n",
      "200/200 [==============================] - 156s 781ms/step - loss: 0.1552 - accuracy: 0.9453 - val_loss: 0.1405 - val_accuracy: 0.9488\n",
      "Epoch 10/30\n",
      "200/200 [==============================] - 155s 774ms/step - loss: 0.1471 - accuracy: 0.9487 - val_loss: 0.1357 - val_accuracy: 0.9506\n",
      "Epoch 11/30\n",
      "200/200 [==============================] - 155s 773ms/step - loss: 0.1392 - accuracy: 0.9496 - val_loss: 0.1297 - val_accuracy: 0.9569\n",
      "Epoch 12/30\n",
      "200/200 [==============================] - 155s 772ms/step - loss: 0.1249 - accuracy: 0.9556 - val_loss: 0.1633 - val_accuracy: 0.9381\n",
      "Epoch 13/30\n",
      "200/200 [==============================] - 154s 770ms/step - loss: 0.0977 - accuracy: 0.9667 - val_loss: 0.0917 - val_accuracy: 0.9712\n",
      "Epoch 14/30\n",
      "200/200 [==============================] - 153s 764ms/step - loss: 0.0933 - accuracy: 0.9684 - val_loss: 0.0587 - val_accuracy: 0.9819\n",
      "Epoch 15/30\n",
      "200/200 [==============================] - 155s 773ms/step - loss: 0.1160 - accuracy: 0.9626 - val_loss: 0.0702 - val_accuracy: 0.9769\n",
      "Epoch 16/30\n",
      "200/200 [==============================] - 154s 770ms/step - loss: 0.0776 - accuracy: 0.9728 - val_loss: 0.1207 - val_accuracy: 0.9519\n",
      "Epoch 17/30\n",
      "200/200 [==============================] - 154s 768ms/step - loss: 0.0675 - accuracy: 0.9754 - val_loss: 0.0645 - val_accuracy: 0.9806\n",
      "Epoch 18/30\n",
      "200/200 [==============================] - 154s 771ms/step - loss: 0.0715 - accuracy: 0.9775 - val_loss: 0.0477 - val_accuracy: 0.9825\n",
      "Epoch 19/30\n",
      "200/200 [==============================] - 155s 772ms/step - loss: 0.0411 - accuracy: 0.9867 - val_loss: 0.0136 - val_accuracy: 0.9969\n",
      "Epoch 20/30\n",
      "200/200 [==============================] - 154s 769ms/step - loss: 0.0536 - accuracy: 0.9822 - val_loss: 0.0287 - val_accuracy: 0.9881\n",
      "Epoch 21/30\n",
      "200/200 [==============================] - 155s 774ms/step - loss: 0.0319 - accuracy: 0.9881 - val_loss: 0.0131 - val_accuracy: 0.9962\n",
      "Epoch 22/30\n",
      "200/200 [==============================] - 153s 767ms/step - loss: 0.0579 - accuracy: 0.9806 - val_loss: 0.0240 - val_accuracy: 0.9912\n",
      "Epoch 23/30\n",
      "200/200 [==============================] - 155s 773ms/step - loss: 0.0383 - accuracy: 0.9876 - val_loss: 0.1425 - val_accuracy: 0.9700\n",
      "Epoch 24/30\n",
      "200/200 [==============================] - 155s 773ms/step - loss: 0.0261 - accuracy: 0.9917 - val_loss: 0.0733 - val_accuracy: 0.9706\n",
      "Epoch 25/30\n",
      "200/200 [==============================] - 154s 772ms/step - loss: 0.0359 - accuracy: 0.9876 - val_loss: 0.0383 - val_accuracy: 0.9862\n",
      "Epoch 26/30\n",
      "200/200 [==============================] - 154s 771ms/step - loss: 0.0346 - accuracy: 0.9891 - val_loss: 0.0413 - val_accuracy: 0.9894\n",
      "Epoch 27/30\n",
      "200/200 [==============================] - 154s 770ms/step - loss: 0.0725 - accuracy: 0.9759 - val_loss: 0.0137 - val_accuracy: 0.9956\n",
      "Epoch 28/30\n",
      "200/200 [==============================] - 154s 771ms/step - loss: 0.0187 - accuracy: 0.9941 - val_loss: 0.0074 - val_accuracy: 0.9987\n",
      "Epoch 29/30\n",
      "200/200 [==============================] - 154s 769ms/step - loss: 0.0175 - accuracy: 0.9941 - val_loss: 0.0047 - val_accuracy: 0.9987\n",
      "Epoch 30/30\n",
      "200/200 [==============================] - 154s 768ms/step - loss: 0.0083 - accuracy: 0.9975 - val_loss: 0.0028 - val_accuracy: 1.0000\n"
     ]
    }
   ],
   "source": [
    "# Train the model\n",
    "history = model.fit(\n",
    "        train_data,\n",
    "        steps_per_epoch=200, # Number of batches per epoch\n",
    "        epochs=30,\n",
    "        validation_data=val_data,\n",
    "        validation_steps=50)"
   ]
  },
  {
   "cell_type": "code",
   "execution_count": 9,
   "metadata": {
    "scrolled": true
   },
   "outputs": [
    {
     "name": "stdout",
     "output_type": "stream",
     "text": [
      "Model: \"sequential\"\n",
      "_________________________________________________________________\n",
      " Layer (type)                Output Shape              Param #   \n",
      "=================================================================\n",
      " conv2d (Conv2D)             (None, 148, 148, 32)      896       \n",
      "                                                                 \n",
      " max_pooling2d (MaxPooling2D  (None, 74, 74, 32)       0         \n",
      " )                                                               \n",
      "                                                                 \n",
      " conv2d_1 (Conv2D)           (None, 72, 72, 64)        18496     \n",
      "                                                                 \n",
      " max_pooling2d_1 (MaxPooling  (None, 36, 36, 64)       0         \n",
      " 2D)                                                             \n",
      "                                                                 \n",
      " conv2d_2 (Conv2D)           (None, 34, 34, 128)       73856     \n",
      "                                                                 \n",
      " max_pooling2d_2 (MaxPooling  (None, 17, 17, 128)      0         \n",
      " 2D)                                                             \n",
      "                                                                 \n",
      " conv2d_3 (Conv2D)           (None, 15, 15, 128)       147584    \n",
      "                                                                 \n",
      " max_pooling2d_3 (MaxPooling  (None, 7, 7, 128)        0         \n",
      " 2D)                                                             \n",
      "                                                                 \n",
      " flatten (Flatten)           (None, 6272)              0         \n",
      "                                                                 \n",
      " dense (Dense)               (None, 512)               3211776   \n",
      "                                                                 \n",
      " dropout (Dropout)           (None, 512)               0         \n",
      "                                                                 \n",
      " dense_1 (Dense)             (None, 4)                 2052      \n",
      "                                                                 \n",
      "=================================================================\n",
      "Total params: 3,454,660\n",
      "Trainable params: 3,454,660\n",
      "Non-trainable params: 0\n",
      "_________________________________________________________________\n"
     ]
    }
   ],
   "source": [
    "model.summary()"
   ]
  },
  {
   "cell_type": "code",
   "execution_count": 10,
   "metadata": {},
   "outputs": [
    {
     "name": "stdout",
     "output_type": "stream",
     "text": [
      "50/50 [==============================] - 9s 174ms/step - loss: 0.0034 - accuracy: 0.9994\n",
      "Test accuracy:  0.9993749856948853\n"
     ]
    }
   ],
   "source": [
    "# Evaluate the model on the test data\n",
    "test_loss, test_accuracy = model.evaluate(val_data, steps=50)\n",
    "print(\"Test accuracy: \", test_accuracy)"
   ]
  },
  {
   "cell_type": "code",
   "execution_count": 11,
   "metadata": {},
   "outputs": [],
   "source": [
    "# Save the model\n",
    "model.save(\"saved_model.h5\")"
   ]
  },
  {
   "cell_type": "code",
   "execution_count": 12,
   "metadata": {},
   "outputs": [
    {
     "data": {
      "image/png": "[encoded data removed]",
      "text/plain": [
       "<Figure size 640x480 with 1 Axes>"
      ]
     },
     "metadata": {},
     "output_type": "display_data"
    }
   ],
   "source": [
    "import matplotlib.pyplot as plt\n",
    "\n",
    "# Get the accuracy values from the history object\n",
    "accuracy = history.history['accuracy']\n",
    "val_accuracy = history.history['val_accuracy']\n",
    "\n",
    "# Plot the accuracy curves\n",
    "plt.plot(accuracy, label='Training Accuracy')\n",
    "plt.plot(val_accuracy, label='Validation Accuracy')\n",
    "plt.xlabel('Epoch')\n",
    "plt.ylabel('Accuracy')\n",
    "plt.legend()\n",
    "plt.show()\n"
   ]
  },
  {
   "cell_type": "code",
   "execution_count": null,
   "metadata": {},
   "outputs": [],
   "source": []
  }
 ],
 "metadata": {
  "kernelspec": {
   "display_name": "Python 3 (ipykernel)",
   "language": "python",
   "name": "python3"
  },
  "language_info": {
   "codemirror_mode": {
    "name": "ipython",
    "version": 3
   },
   "file_extension": ".py",
   "mimetype": "text/x-python",
   "name": "python",
   "nbconvert_exporter": "python",
   "pygments_lexer": "ipython3",
   "version": "3.11.1"
  },
  "vscode": {
   "interpreter": {
    "hash": "26de051ba29f2982a8de78e945f0abaf191376122a1563185a90213a26c5da77"
   }
  }
 },
 "nbformat": 4,
 "nbformat_minor": 2
}
